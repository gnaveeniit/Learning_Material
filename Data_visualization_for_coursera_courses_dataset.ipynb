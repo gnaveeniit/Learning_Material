{
  "nbformat": 4,
  "nbformat_minor": 0,
  "metadata": {
    "colab": {
      "name": "Data visualization for coursera courses dataset.ipynb",
      "provenance": []
    },
    "kernelspec": {
      "name": "python3",
      "display_name": "Python 3"
    }
  },
  "cells": [
    {
      "cell_type": "code",
      "metadata": {
        "id": "wljd5hqjuH85",
        "colab_type": "code",
        "colab": {}
      },
      "source": [
        "import pandas as pd\n",
        "import numpy as np\n",
        "import matplotlib.pyplot as plt\n"
      ],
      "execution_count": 0,
      "outputs": []
    },
    {
      "cell_type": "code",
      "metadata": {
        "id": "_3aWjW5Ourdz",
        "colab_type": "code",
        "colab": {
          "base_uri": "https://localhost:8080/",
          "height": 496
        },
        "outputId": "41bbe9ca-e419-4e5f-e378-444310e16a5c"
      },
      "source": [
        "#Loading the coursera_data.csv into a DataFrame data\n",
        "data=pd.read_csv('coursea_data.csv')\n",
        "#Checking the dimensions of data\n",
        "print(data.shape)\n",
        "#Seeing the first five rows of data\n",
        "data.head()"
      ],
      "execution_count": 223,
      "outputs": [
        {
          "output_type": "stream",
          "text": [
            "(891, 7)\n"
          ],
          "name": "stdout"
        },
        {
          "output_type": "execute_result",
          "data": {
            "text/html": [
              "<div>\n",
              "<style scoped>\n",
              "    .dataframe tbody tr th:only-of-type {\n",
              "        vertical-align: middle;\n",
              "    }\n",
              "\n",
              "    .dataframe tbody tr th {\n",
              "        vertical-align: top;\n",
              "    }\n",
              "\n",
              "    .dataframe thead th {\n",
              "        text-align: right;\n",
              "    }\n",
              "</style>\n",
              "<table border=\"1\" class=\"dataframe\">\n",
              "  <thead>\n",
              "    <tr style=\"text-align: right;\">\n",
              "      <th></th>\n",
              "      <th>Unnamed: 0</th>\n",
              "      <th>course_title</th>\n",
              "      <th>course_organization</th>\n",
              "      <th>course_Certificate_type</th>\n",
              "      <th>course_rating</th>\n",
              "      <th>course_difficulty</th>\n",
              "      <th>course_students_enrolled</th>\n",
              "    </tr>\n",
              "  </thead>\n",
              "  <tbody>\n",
              "    <tr>\n",
              "      <th>0</th>\n",
              "      <td>134</td>\n",
              "      <td>(ISC)² Systems Security Certified Practitioner...</td>\n",
              "      <td>(ISC)²</td>\n",
              "      <td>SPECIALIZATION</td>\n",
              "      <td>4.7</td>\n",
              "      <td>Beginner</td>\n",
              "      <td>5.3k</td>\n",
              "    </tr>\n",
              "    <tr>\n",
              "      <th>1</th>\n",
              "      <td>743</td>\n",
              "      <td>A Crash Course in Causality:  Inferring Causal...</td>\n",
              "      <td>University of Pennsylvania</td>\n",
              "      <td>COURSE</td>\n",
              "      <td>4.7</td>\n",
              "      <td>Intermediate</td>\n",
              "      <td>17k</td>\n",
              "    </tr>\n",
              "    <tr>\n",
              "      <th>2</th>\n",
              "      <td>874</td>\n",
              "      <td>A Crash Course in Data Science</td>\n",
              "      <td>Johns Hopkins University</td>\n",
              "      <td>COURSE</td>\n",
              "      <td>4.5</td>\n",
              "      <td>Mixed</td>\n",
              "      <td>130k</td>\n",
              "    </tr>\n",
              "    <tr>\n",
              "      <th>3</th>\n",
              "      <td>413</td>\n",
              "      <td>A Law Student's Toolkit</td>\n",
              "      <td>Yale University</td>\n",
              "      <td>COURSE</td>\n",
              "      <td>4.7</td>\n",
              "      <td>Mixed</td>\n",
              "      <td>91k</td>\n",
              "    </tr>\n",
              "    <tr>\n",
              "      <th>4</th>\n",
              "      <td>635</td>\n",
              "      <td>A Life of Happiness and Fulfillment</td>\n",
              "      <td>Indian School of Business</td>\n",
              "      <td>COURSE</td>\n",
              "      <td>4.8</td>\n",
              "      <td>Mixed</td>\n",
              "      <td>320k</td>\n",
              "    </tr>\n",
              "  </tbody>\n",
              "</table>\n",
              "</div>"
            ],
            "text/plain": [
              "   Unnamed: 0  ... course_students_enrolled\n",
              "0         134  ...                     5.3k\n",
              "1         743  ...                      17k\n",
              "2         874  ...                     130k\n",
              "3         413  ...                      91k\n",
              "4         635  ...                     320k\n",
              "\n",
              "[5 rows x 7 columns]"
            ]
          },
          "metadata": {
            "tags": []
          },
          "execution_count": 223
        }
      ]
    },
    {
      "cell_type": "code",
      "metadata": {
        "id": "CkVVPqCburh3",
        "colab_type": "code",
        "colab": {
          "base_uri": "https://localhost:8080/",
          "height": 462
        },
        "outputId": "ff4fafde-50c5-4ffa-d283-031aed1bc0ca"
      },
      "source": [
        "#Renaming the first column name 'Unnamed: 0' to 'ID'\n",
        "data.rename(columns = {'Unnamed: 0':'ID'}, inplace = True) \n",
        "#Seeing the first five rows of data after renaming the column\n",
        "data.head()"
      ],
      "execution_count": 224,
      "outputs": [
        {
          "output_type": "execute_result",
          "data": {
            "text/html": [
              "<div>\n",
              "<style scoped>\n",
              "    .dataframe tbody tr th:only-of-type {\n",
              "        vertical-align: middle;\n",
              "    }\n",
              "\n",
              "    .dataframe tbody tr th {\n",
              "        vertical-align: top;\n",
              "    }\n",
              "\n",
              "    .dataframe thead th {\n",
              "        text-align: right;\n",
              "    }\n",
              "</style>\n",
              "<table border=\"1\" class=\"dataframe\">\n",
              "  <thead>\n",
              "    <tr style=\"text-align: right;\">\n",
              "      <th></th>\n",
              "      <th>ID</th>\n",
              "      <th>course_title</th>\n",
              "      <th>course_organization</th>\n",
              "      <th>course_Certificate_type</th>\n",
              "      <th>course_rating</th>\n",
              "      <th>course_difficulty</th>\n",
              "      <th>course_students_enrolled</th>\n",
              "    </tr>\n",
              "  </thead>\n",
              "  <tbody>\n",
              "    <tr>\n",
              "      <th>0</th>\n",
              "      <td>134</td>\n",
              "      <td>(ISC)² Systems Security Certified Practitioner...</td>\n",
              "      <td>(ISC)²</td>\n",
              "      <td>SPECIALIZATION</td>\n",
              "      <td>4.7</td>\n",
              "      <td>Beginner</td>\n",
              "      <td>5.3k</td>\n",
              "    </tr>\n",
              "    <tr>\n",
              "      <th>1</th>\n",
              "      <td>743</td>\n",
              "      <td>A Crash Course in Causality:  Inferring Causal...</td>\n",
              "      <td>University of Pennsylvania</td>\n",
              "      <td>COURSE</td>\n",
              "      <td>4.7</td>\n",
              "      <td>Intermediate</td>\n",
              "      <td>17k</td>\n",
              "    </tr>\n",
              "    <tr>\n",
              "      <th>2</th>\n",
              "      <td>874</td>\n",
              "      <td>A Crash Course in Data Science</td>\n",
              "      <td>Johns Hopkins University</td>\n",
              "      <td>COURSE</td>\n",
              "      <td>4.5</td>\n",
              "      <td>Mixed</td>\n",
              "      <td>130k</td>\n",
              "    </tr>\n",
              "    <tr>\n",
              "      <th>3</th>\n",
              "      <td>413</td>\n",
              "      <td>A Law Student's Toolkit</td>\n",
              "      <td>Yale University</td>\n",
              "      <td>COURSE</td>\n",
              "      <td>4.7</td>\n",
              "      <td>Mixed</td>\n",
              "      <td>91k</td>\n",
              "    </tr>\n",
              "    <tr>\n",
              "      <th>4</th>\n",
              "      <td>635</td>\n",
              "      <td>A Life of Happiness and Fulfillment</td>\n",
              "      <td>Indian School of Business</td>\n",
              "      <td>COURSE</td>\n",
              "      <td>4.8</td>\n",
              "      <td>Mixed</td>\n",
              "      <td>320k</td>\n",
              "    </tr>\n",
              "  </tbody>\n",
              "</table>\n",
              "</div>"
            ],
            "text/plain": [
              "    ID  ... course_students_enrolled\n",
              "0  134  ...                     5.3k\n",
              "1  743  ...                      17k\n",
              "2  874  ...                     130k\n",
              "3  413  ...                      91k\n",
              "4  635  ...                     320k\n",
              "\n",
              "[5 rows x 7 columns]"
            ]
          },
          "metadata": {
            "tags": []
          },
          "execution_count": 224
        }
      ]
    },
    {
      "cell_type": "code",
      "metadata": {
        "id": "DsiegmlmuraU",
        "colab_type": "code",
        "colab": {
          "base_uri": "https://localhost:8080/",
          "height": 255
        },
        "outputId": "9333d0ef-7b1a-4fab-cffe-798b3ab82c91"
      },
      "source": [
        "#Summary of DataFrame\n",
        "data.info()"
      ],
      "execution_count": 225,
      "outputs": [
        {
          "output_type": "stream",
          "text": [
            "<class 'pandas.core.frame.DataFrame'>\n",
            "RangeIndex: 891 entries, 0 to 890\n",
            "Data columns (total 7 columns):\n",
            " #   Column                    Non-Null Count  Dtype  \n",
            "---  ------                    --------------  -----  \n",
            " 0   ID                        891 non-null    int64  \n",
            " 1   course_title              891 non-null    object \n",
            " 2   course_organization       891 non-null    object \n",
            " 3   course_Certificate_type   891 non-null    object \n",
            " 4   course_rating             891 non-null    float64\n",
            " 5   course_difficulty         891 non-null    object \n",
            " 6   course_students_enrolled  891 non-null    object \n",
            "dtypes: float64(1), int64(1), object(5)\n",
            "memory usage: 48.9+ KB\n"
          ],
          "name": "stdout"
        }
      ]
    },
    {
      "cell_type": "code",
      "metadata": {
        "id": "8xaCa22yv_tq",
        "colab_type": "code",
        "colab": {
          "base_uri": "https://localhost:8080/",
          "height": 153
        },
        "outputId": "e6ec9c65-f754-453f-9b85-0ba1c6c6f592"
      },
      "source": [
        "#Checking if any column has any missing element\n",
        "data.isnull().sum()"
      ],
      "execution_count": 226,
      "outputs": [
        {
          "output_type": "execute_result",
          "data": {
            "text/plain": [
              "ID                          0\n",
              "course_title                0\n",
              "course_organization         0\n",
              "course_Certificate_type     0\n",
              "course_rating               0\n",
              "course_difficulty           0\n",
              "course_students_enrolled    0\n",
              "dtype: int64"
            ]
          },
          "metadata": {
            "tags": []
          },
          "execution_count": 226
        }
      ]
    },
    {
      "cell_type": "code",
      "metadata": {
        "id": "55WNdHiyv_2X",
        "colab_type": "code",
        "colab": {
          "base_uri": "https://localhost:8080/",
          "height": 153
        },
        "outputId": "b82cc4b7-c08b-4560-95ee-13ed078226b4"
      },
      "source": [
        "data.dtypes"
      ],
      "execution_count": 227,
      "outputs": [
        {
          "output_type": "execute_result",
          "data": {
            "text/plain": [
              "ID                            int64\n",
              "course_title                 object\n",
              "course_organization          object\n",
              "course_Certificate_type      object\n",
              "course_rating               float64\n",
              "course_difficulty            object\n",
              "course_students_enrolled     object\n",
              "dtype: object"
            ]
          },
          "metadata": {
            "tags": []
          },
          "execution_count": 227
        }
      ]
    },
    {
      "cell_type": "code",
      "metadata": {
        "id": "-6kAoC4Yv_wy",
        "colab_type": "code",
        "colab": {
          "base_uri": "https://localhost:8080/",
          "height": 221
        },
        "outputId": "12136607-e770-405c-a490-a55c0bfdc3a1"
      },
      "source": [
        "#In the above dtypes of each columns, we have for the column 'course_students_enrolled' as object\n",
        "#Ideally, we want it to be int or float. We choose int\n",
        "data.course_students_enrolled"
      ],
      "execution_count": 228,
      "outputs": [
        {
          "output_type": "execute_result",
          "data": {
            "text/plain": [
              "0      5.3k\n",
              "1       17k\n",
              "2      130k\n",
              "3       91k\n",
              "4      320k\n",
              "       ... \n",
              "886     52k\n",
              "887     21k\n",
              "888     30k\n",
              "889    9.8k\n",
              "890     38k\n",
              "Name: course_students_enrolled, Length: 891, dtype: object"
            ]
          },
          "metadata": {
            "tags": []
          },
          "execution_count": 228
        }
      ]
    },
    {
      "cell_type": "code",
      "metadata": {
        "id": "SneL1t44-p5f",
        "colab_type": "code",
        "colab": {
          "base_uri": "https://localhost:8080/",
          "height": 153
        },
        "outputId": "62deb3e0-9f24-4712-8efb-fcb95b192f4d"
      },
      "source": [
        "data.dtypes"
      ],
      "execution_count": 229,
      "outputs": [
        {
          "output_type": "execute_result",
          "data": {
            "text/plain": [
              "ID                            int64\n",
              "course_title                 object\n",
              "course_organization          object\n",
              "course_Certificate_type      object\n",
              "course_rating               float64\n",
              "course_difficulty            object\n",
              "course_students_enrolled     object\n",
              "dtype: object"
            ]
          },
          "metadata": {
            "tags": []
          },
          "execution_count": 229
        }
      ]
    },
    {
      "cell_type": "code",
      "metadata": {
        "id": "VAYA1N8O5aDh",
        "colab_type": "code",
        "colab": {}
      },
      "source": [
        "#Borrowed this code cell from Devanshu Ramaiya\n",
        "std_enroll = []\n",
        "for i in range(0, len(data)):\n",
        "    try:\n",
        "        num = data['course_students_enrolled'].str.split('k')[i][0]\n",
        "        num = float(num) * 1000 \n",
        "        std_enroll.append(num)\n",
        "    except:\n",
        "        num = data['course_students_enrolled'].str.split('m')[i][0]\n",
        "        num = float(num) * 1000000\n",
        "        std_enroll.append(num)\n",
        "data['course_students_enrolled'] = std_enroll\n",
        "data['course_students_enrolled'] = data['course_students_enrolled'].astype(float)"
      ],
      "execution_count": 0,
      "outputs": []
    },
    {
      "cell_type": "code",
      "metadata": {
        "id": "R8l9oFTj5aBe",
        "colab_type": "code",
        "colab": {
          "base_uri": "https://localhost:8080/",
          "height": 297
        },
        "outputId": "a3e8ca52-76a9-4ba1-e1e5-09f46e257766"
      },
      "source": [
        "data.describe()"
      ],
      "execution_count": 231,
      "outputs": [
        {
          "output_type": "execute_result",
          "data": {
            "text/html": [
              "<div>\n",
              "<style scoped>\n",
              "    .dataframe tbody tr th:only-of-type {\n",
              "        vertical-align: middle;\n",
              "    }\n",
              "\n",
              "    .dataframe tbody tr th {\n",
              "        vertical-align: top;\n",
              "    }\n",
              "\n",
              "    .dataframe thead th {\n",
              "        text-align: right;\n",
              "    }\n",
              "</style>\n",
              "<table border=\"1\" class=\"dataframe\">\n",
              "  <thead>\n",
              "    <tr style=\"text-align: right;\">\n",
              "      <th></th>\n",
              "      <th>ID</th>\n",
              "      <th>course_rating</th>\n",
              "      <th>course_students_enrolled</th>\n",
              "    </tr>\n",
              "  </thead>\n",
              "  <tbody>\n",
              "    <tr>\n",
              "      <th>count</th>\n",
              "      <td>891.000000</td>\n",
              "      <td>891.000000</td>\n",
              "      <td>8.910000e+02</td>\n",
              "    </tr>\n",
              "    <tr>\n",
              "      <th>mean</th>\n",
              "      <td>445.000000</td>\n",
              "      <td>4.677329</td>\n",
              "      <td>9.055208e+04</td>\n",
              "    </tr>\n",
              "    <tr>\n",
              "      <th>std</th>\n",
              "      <td>257.353842</td>\n",
              "      <td>0.162225</td>\n",
              "      <td>1.819365e+05</td>\n",
              "    </tr>\n",
              "    <tr>\n",
              "      <th>min</th>\n",
              "      <td>0.000000</td>\n",
              "      <td>3.300000</td>\n",
              "      <td>1.500000e+03</td>\n",
              "    </tr>\n",
              "    <tr>\n",
              "      <th>25%</th>\n",
              "      <td>222.500000</td>\n",
              "      <td>4.600000</td>\n",
              "      <td>1.750000e+04</td>\n",
              "    </tr>\n",
              "    <tr>\n",
              "      <th>50%</th>\n",
              "      <td>445.000000</td>\n",
              "      <td>4.700000</td>\n",
              "      <td>4.200000e+04</td>\n",
              "    </tr>\n",
              "    <tr>\n",
              "      <th>75%</th>\n",
              "      <td>667.500000</td>\n",
              "      <td>4.800000</td>\n",
              "      <td>9.950000e+04</td>\n",
              "    </tr>\n",
              "    <tr>\n",
              "      <th>max</th>\n",
              "      <td>890.000000</td>\n",
              "      <td>5.000000</td>\n",
              "      <td>3.200000e+06</td>\n",
              "    </tr>\n",
              "  </tbody>\n",
              "</table>\n",
              "</div>"
            ],
            "text/plain": [
              "               ID  course_rating  course_students_enrolled\n",
              "count  891.000000     891.000000              8.910000e+02\n",
              "mean   445.000000       4.677329              9.055208e+04\n",
              "std    257.353842       0.162225              1.819365e+05\n",
              "min      0.000000       3.300000              1.500000e+03\n",
              "25%    222.500000       4.600000              1.750000e+04\n",
              "50%    445.000000       4.700000              4.200000e+04\n",
              "75%    667.500000       4.800000              9.950000e+04\n",
              "max    890.000000       5.000000              3.200000e+06"
            ]
          },
          "metadata": {
            "tags": []
          },
          "execution_count": 231
        }
      ]
    },
    {
      "cell_type": "code",
      "metadata": {
        "id": "F_B7_o0gI1kk",
        "colab_type": "code",
        "colab": {
          "base_uri": "https://localhost:8080/",
          "height": 462
        },
        "outputId": "76bb2575-f335-4326-e0d6-c2665739f6c4"
      },
      "source": [
        "data.head()"
      ],
      "execution_count": 233,
      "outputs": [
        {
          "output_type": "execute_result",
          "data": {
            "text/html": [
              "<div>\n",
              "<style scoped>\n",
              "    .dataframe tbody tr th:only-of-type {\n",
              "        vertical-align: middle;\n",
              "    }\n",
              "\n",
              "    .dataframe tbody tr th {\n",
              "        vertical-align: top;\n",
              "    }\n",
              "\n",
              "    .dataframe thead th {\n",
              "        text-align: right;\n",
              "    }\n",
              "</style>\n",
              "<table border=\"1\" class=\"dataframe\">\n",
              "  <thead>\n",
              "    <tr style=\"text-align: right;\">\n",
              "      <th></th>\n",
              "      <th>ID</th>\n",
              "      <th>course_title</th>\n",
              "      <th>course_organization</th>\n",
              "      <th>course_Certificate_type</th>\n",
              "      <th>course_rating</th>\n",
              "      <th>course_difficulty</th>\n",
              "      <th>course_students_enrolled</th>\n",
              "    </tr>\n",
              "  </thead>\n",
              "  <tbody>\n",
              "    <tr>\n",
              "      <th>0</th>\n",
              "      <td>134</td>\n",
              "      <td>(ISC)² Systems Security Certified Practitioner...</td>\n",
              "      <td>(ISC)²</td>\n",
              "      <td>SPECIALIZATION</td>\n",
              "      <td>4.7</td>\n",
              "      <td>Beginner</td>\n",
              "      <td>5300.0</td>\n",
              "    </tr>\n",
              "    <tr>\n",
              "      <th>1</th>\n",
              "      <td>743</td>\n",
              "      <td>A Crash Course in Causality:  Inferring Causal...</td>\n",
              "      <td>University of Pennsylvania</td>\n",
              "      <td>COURSE</td>\n",
              "      <td>4.7</td>\n",
              "      <td>Intermediate</td>\n",
              "      <td>17000.0</td>\n",
              "    </tr>\n",
              "    <tr>\n",
              "      <th>2</th>\n",
              "      <td>874</td>\n",
              "      <td>A Crash Course in Data Science</td>\n",
              "      <td>Johns Hopkins University</td>\n",
              "      <td>COURSE</td>\n",
              "      <td>4.5</td>\n",
              "      <td>Mixed</td>\n",
              "      <td>130000.0</td>\n",
              "    </tr>\n",
              "    <tr>\n",
              "      <th>3</th>\n",
              "      <td>413</td>\n",
              "      <td>A Law Student's Toolkit</td>\n",
              "      <td>Yale University</td>\n",
              "      <td>COURSE</td>\n",
              "      <td>4.7</td>\n",
              "      <td>Mixed</td>\n",
              "      <td>91000.0</td>\n",
              "    </tr>\n",
              "    <tr>\n",
              "      <th>4</th>\n",
              "      <td>635</td>\n",
              "      <td>A Life of Happiness and Fulfillment</td>\n",
              "      <td>Indian School of Business</td>\n",
              "      <td>COURSE</td>\n",
              "      <td>4.8</td>\n",
              "      <td>Mixed</td>\n",
              "      <td>320000.0</td>\n",
              "    </tr>\n",
              "  </tbody>\n",
              "</table>\n",
              "</div>"
            ],
            "text/plain": [
              "    ID  ... course_students_enrolled\n",
              "0  134  ...                   5300.0\n",
              "1  743  ...                  17000.0\n",
              "2  874  ...                 130000.0\n",
              "3  413  ...                  91000.0\n",
              "4  635  ...                 320000.0\n",
              "\n",
              "[5 rows x 7 columns]"
            ]
          },
          "metadata": {
            "tags": []
          },
          "execution_count": 233
        }
      ]
    },
    {
      "cell_type": "code",
      "metadata": {
        "id": "OMGxcLizAWvi",
        "colab_type": "code",
        "colab": {
          "base_uri": "https://localhost:8080/",
          "height": 34
        },
        "outputId": "c58ade44-1541-4186-a51e-6e36a68fcad4"
      },
      "source": [
        "data.shape"
      ],
      "execution_count": 234,
      "outputs": [
        {
          "output_type": "execute_result",
          "data": {
            "text/plain": [
              "(891, 7)"
            ]
          },
          "metadata": {
            "tags": []
          },
          "execution_count": 234
        }
      ]
    },
    {
      "cell_type": "markdown",
      "metadata": {
        "id": "8bk_pBc1Z0VV",
        "colab_type": "text"
      },
      "source": [
        "## Which organization has the most number of courses?"
      ]
    },
    {
      "cell_type": "code",
      "metadata": {
        "id": "7hXEXnzIBTwt",
        "colab_type": "code",
        "colab": {}
      },
      "source": [
        "data['count']=data.course_Certificate_type.str.contains('COURSE').astype(int)"
      ],
      "execution_count": 0,
      "outputs": []
    },
    {
      "cell_type": "code",
      "metadata": {
        "id": "1a1Rx7dmBT25",
        "colab_type": "code",
        "colab": {
          "base_uri": "https://localhost:8080/",
          "height": 462
        },
        "outputId": "011ea294-18b8-4c5b-9354-d0ace7df8095"
      },
      "source": [
        "data.head()"
      ],
      "execution_count": 236,
      "outputs": [
        {
          "output_type": "execute_result",
          "data": {
            "text/html": [
              "<div>\n",
              "<style scoped>\n",
              "    .dataframe tbody tr th:only-of-type {\n",
              "        vertical-align: middle;\n",
              "    }\n",
              "\n",
              "    .dataframe tbody tr th {\n",
              "        vertical-align: top;\n",
              "    }\n",
              "\n",
              "    .dataframe thead th {\n",
              "        text-align: right;\n",
              "    }\n",
              "</style>\n",
              "<table border=\"1\" class=\"dataframe\">\n",
              "  <thead>\n",
              "    <tr style=\"text-align: right;\">\n",
              "      <th></th>\n",
              "      <th>ID</th>\n",
              "      <th>course_title</th>\n",
              "      <th>course_organization</th>\n",
              "      <th>course_Certificate_type</th>\n",
              "      <th>course_rating</th>\n",
              "      <th>course_difficulty</th>\n",
              "      <th>course_students_enrolled</th>\n",
              "      <th>count</th>\n",
              "    </tr>\n",
              "  </thead>\n",
              "  <tbody>\n",
              "    <tr>\n",
              "      <th>0</th>\n",
              "      <td>134</td>\n",
              "      <td>(ISC)² Systems Security Certified Practitioner...</td>\n",
              "      <td>(ISC)²</td>\n",
              "      <td>SPECIALIZATION</td>\n",
              "      <td>4.7</td>\n",
              "      <td>Beginner</td>\n",
              "      <td>5300.0</td>\n",
              "      <td>0</td>\n",
              "    </tr>\n",
              "    <tr>\n",
              "      <th>1</th>\n",
              "      <td>743</td>\n",
              "      <td>A Crash Course in Causality:  Inferring Causal...</td>\n",
              "      <td>University of Pennsylvania</td>\n",
              "      <td>COURSE</td>\n",
              "      <td>4.7</td>\n",
              "      <td>Intermediate</td>\n",
              "      <td>17000.0</td>\n",
              "      <td>1</td>\n",
              "    </tr>\n",
              "    <tr>\n",
              "      <th>2</th>\n",
              "      <td>874</td>\n",
              "      <td>A Crash Course in Data Science</td>\n",
              "      <td>Johns Hopkins University</td>\n",
              "      <td>COURSE</td>\n",
              "      <td>4.5</td>\n",
              "      <td>Mixed</td>\n",
              "      <td>130000.0</td>\n",
              "      <td>1</td>\n",
              "    </tr>\n",
              "    <tr>\n",
              "      <th>3</th>\n",
              "      <td>413</td>\n",
              "      <td>A Law Student's Toolkit</td>\n",
              "      <td>Yale University</td>\n",
              "      <td>COURSE</td>\n",
              "      <td>4.7</td>\n",
              "      <td>Mixed</td>\n",
              "      <td>91000.0</td>\n",
              "      <td>1</td>\n",
              "    </tr>\n",
              "    <tr>\n",
              "      <th>4</th>\n",
              "      <td>635</td>\n",
              "      <td>A Life of Happiness and Fulfillment</td>\n",
              "      <td>Indian School of Business</td>\n",
              "      <td>COURSE</td>\n",
              "      <td>4.8</td>\n",
              "      <td>Mixed</td>\n",
              "      <td>320000.0</td>\n",
              "      <td>1</td>\n",
              "    </tr>\n",
              "  </tbody>\n",
              "</table>\n",
              "</div>"
            ],
            "text/plain": [
              "    ID  ... count\n",
              "0  134  ...     0\n",
              "1  743  ...     1\n",
              "2  874  ...     1\n",
              "3  413  ...     1\n",
              "4  635  ...     1\n",
              "\n",
              "[5 rows x 8 columns]"
            ]
          },
          "metadata": {
            "tags": []
          },
          "execution_count": 236
        }
      ]
    },
    {
      "cell_type": "code",
      "metadata": {
        "id": "ohd4Z719BT0N",
        "colab_type": "code",
        "colab": {
          "base_uri": "https://localhost:8080/",
          "height": 391
        },
        "outputId": "2234887d-3c4e-4ae2-d6cf-be91304b59d4"
      },
      "source": [
        "E=data.groupby('course_organization').sum().sort_values('count').tail(20)\n",
        "E['count']\n",
        "\n",
        "#University of Pennsylvania has highest number of courses"
      ],
      "execution_count": 237,
      "outputs": [
        {
          "output_type": "execute_result",
          "data": {
            "text/plain": [
              "course_organization\n",
              "Pontificia Universidad Católica de Chile       7\n",
              "The University of Edinburgh                    8\n",
              "University of Alberta                          8\n",
              "Universiteit Leiden                            9\n",
              "University of Colorado Boulder                 9\n",
              "Georgia Institute of Technology                9\n",
              "University of Illinois at Urbana-Champaign    10\n",
              "Universidad Nacional Autónoma de México       10\n",
              "University of California, Davis               11\n",
              "University of California, Irvine              12\n",
              "deeplearning.ai                               12\n",
              "IBM                                           13\n",
              "Stanford University                           15\n",
              "University of Virginia                        16\n",
              "Yale University                               16\n",
              "Johns Hopkins University                      17\n",
              "Google Cloud                                  17\n",
              "Duke University                               22\n",
              "University of Michigan                        30\n",
              "University of Pennsylvania                    44\n",
              "Name: count, dtype: int64"
            ]
          },
          "metadata": {
            "tags": []
          },
          "execution_count": 237
        }
      ]
    },
    {
      "cell_type": "markdown",
      "metadata": {
        "id": "0WH2CwMxZlyP",
        "colab_type": "text"
      },
      "source": [
        "## Average course rating of the organizations with more than 10 courses?"
      ]
    },
    {
      "cell_type": "code",
      "metadata": {
        "id": "3dzh4XfCCGuc",
        "colab_type": "code",
        "colab": {
          "base_uri": "https://localhost:8080/",
          "height": 452
        },
        "outputId": "27bbb5ad-9757-48f6-b68a-b019b04ca3fd"
      },
      "source": [
        "E2=E[E['count'] > 10]\n",
        "E2"
      ],
      "execution_count": 240,
      "outputs": [
        {
          "output_type": "execute_result",
          "data": {
            "text/html": [
              "<div>\n",
              "<style scoped>\n",
              "    .dataframe tbody tr th:only-of-type {\n",
              "        vertical-align: middle;\n",
              "    }\n",
              "\n",
              "    .dataframe tbody tr th {\n",
              "        vertical-align: top;\n",
              "    }\n",
              "\n",
              "    .dataframe thead th {\n",
              "        text-align: right;\n",
              "    }\n",
              "</style>\n",
              "<table border=\"1\" class=\"dataframe\">\n",
              "  <thead>\n",
              "    <tr style=\"text-align: right;\">\n",
              "      <th></th>\n",
              "      <th>ID</th>\n",
              "      <th>course_rating</th>\n",
              "      <th>course_students_enrolled</th>\n",
              "      <th>count</th>\n",
              "    </tr>\n",
              "    <tr>\n",
              "      <th>course_organization</th>\n",
              "      <th></th>\n",
              "      <th></th>\n",
              "      <th></th>\n",
              "      <th></th>\n",
              "    </tr>\n",
              "  </thead>\n",
              "  <tbody>\n",
              "    <tr>\n",
              "      <th>University of California, Davis</th>\n",
              "      <td>8226</td>\n",
              "      <td>97.0</td>\n",
              "      <td>1278700.0</td>\n",
              "      <td>11</td>\n",
              "    </tr>\n",
              "    <tr>\n",
              "      <th>University of California, Irvine</th>\n",
              "      <td>10547</td>\n",
              "      <td>124.1</td>\n",
              "      <td>4326000.0</td>\n",
              "      <td>12</td>\n",
              "    </tr>\n",
              "    <tr>\n",
              "      <th>deeplearning.ai</th>\n",
              "      <td>3123</td>\n",
              "      <td>75.9</td>\n",
              "      <td>2863400.0</td>\n",
              "      <td>12</td>\n",
              "    </tr>\n",
              "    <tr>\n",
              "      <th>IBM</th>\n",
              "      <td>5339</td>\n",
              "      <td>101.5</td>\n",
              "      <td>2956400.0</td>\n",
              "      <td>13</td>\n",
              "    </tr>\n",
              "    <tr>\n",
              "      <th>Stanford University</th>\n",
              "      <td>5892</td>\n",
              "      <td>76.3</td>\n",
              "      <td>4854000.0</td>\n",
              "      <td>15</td>\n",
              "    </tr>\n",
              "    <tr>\n",
              "      <th>University of Virginia</th>\n",
              "      <td>7946</td>\n",
              "      <td>89.6</td>\n",
              "      <td>1556000.0</td>\n",
              "      <td>16</td>\n",
              "    </tr>\n",
              "    <tr>\n",
              "      <th>Yale University</th>\n",
              "      <td>5615</td>\n",
              "      <td>81.9</td>\n",
              "      <td>3952000.0</td>\n",
              "      <td>16</td>\n",
              "    </tr>\n",
              "    <tr>\n",
              "      <th>Johns Hopkins University</th>\n",
              "      <td>9686</td>\n",
              "      <td>130.5</td>\n",
              "      <td>4298900.0</td>\n",
              "      <td>17</td>\n",
              "    </tr>\n",
              "    <tr>\n",
              "      <th>Google Cloud</th>\n",
              "      <td>12770</td>\n",
              "      <td>155.8</td>\n",
              "      <td>2604300.0</td>\n",
              "      <td>17</td>\n",
              "    </tr>\n",
              "    <tr>\n",
              "      <th>Duke University</th>\n",
              "      <td>12434</td>\n",
              "      <td>130.6</td>\n",
              "      <td>3967600.0</td>\n",
              "      <td>22</td>\n",
              "    </tr>\n",
              "    <tr>\n",
              "      <th>University of Michigan</th>\n",
              "      <td>16714</td>\n",
              "      <td>193.9</td>\n",
              "      <td>7437700.0</td>\n",
              "      <td>30</td>\n",
              "    </tr>\n",
              "    <tr>\n",
              "      <th>University of Pennsylvania</th>\n",
              "      <td>22272</td>\n",
              "      <td>277.1</td>\n",
              "      <td>5501300.0</td>\n",
              "      <td>44</td>\n",
              "    </tr>\n",
              "  </tbody>\n",
              "</table>\n",
              "</div>"
            ],
            "text/plain": [
              "                                     ID  ...  count\n",
              "course_organization                      ...       \n",
              "University of California, Davis    8226  ...     11\n",
              "University of California, Irvine  10547  ...     12\n",
              "deeplearning.ai                    3123  ...     12\n",
              "IBM                                5339  ...     13\n",
              "Stanford University                5892  ...     15\n",
              "University of Virginia             7946  ...     16\n",
              "Yale University                    5615  ...     16\n",
              "Johns Hopkins University           9686  ...     17\n",
              "Google Cloud                      12770  ...     17\n",
              "Duke University                   12434  ...     22\n",
              "University of Michigan            16714  ...     30\n",
              "University of Pennsylvania        22272  ...     44\n",
              "\n",
              "[12 rows x 4 columns]"
            ]
          },
          "metadata": {
            "tags": []
          },
          "execution_count": 240
        }
      ]
    },
    {
      "cell_type": "code",
      "metadata": {
        "id": "UM57-gU5LMs7",
        "colab_type": "code",
        "colab": {
          "base_uri": "https://localhost:8080/",
          "height": 119
        },
        "outputId": "761b4026-00dc-4448-88f5-05a220107d94"
      },
      "source": [
        "E2.index"
      ],
      "execution_count": 241,
      "outputs": [
        {
          "output_type": "execute_result",
          "data": {
            "text/plain": [
              "Index(['University of California, Davis', 'University of California, Irvine',\n",
              "       'deeplearning.ai', 'IBM', 'Stanford University',\n",
              "       'University of Virginia', 'Yale University', 'Johns Hopkins University',\n",
              "       'Google Cloud', 'Duke University', 'University of Michigan',\n",
              "       'University of Pennsylvania'],\n",
              "      dtype='object', name='course_organization')"
            ]
          },
          "metadata": {
            "tags": []
          },
          "execution_count": 241
        }
      ]
    },
    {
      "cell_type": "code",
      "metadata": {
        "id": "t6TCQ9qILWOv",
        "colab_type": "code",
        "colab": {}
      },
      "source": [
        "E4=data.groupby('course_organization').mean().sort_values(by='course_rating', ascending=False,)['course_rating']\n"
      ],
      "execution_count": 0,
      "outputs": []
    },
    {
      "cell_type": "code",
      "metadata": {
        "id": "HS8pzd45UnQD",
        "colab_type": "code",
        "colab": {
          "base_uri": "https://localhost:8080/",
          "height": 255
        },
        "outputId": "e490c4d0-120c-49d9-cabc-fbe36aad0714"
      },
      "source": [
        "E4.loc[E2.index]"
      ],
      "execution_count": 243,
      "outputs": [
        {
          "output_type": "execute_result",
          "data": {
            "text/plain": [
              "course_organization\n",
              "University of California, Davis     4.619048\n",
              "University of California, Irvine    4.596296\n",
              "deeplearning.ai                     4.743750\n",
              "IBM                                 4.613636\n",
              "Stanford University                 4.768750\n",
              "University of Virginia              4.715789\n",
              "Yale University                     4.817647\n",
              "Johns Hopkins University            4.660714\n",
              "Google Cloud                        4.582353\n",
              "Duke University                     4.664286\n",
              "University of Michigan              4.729268\n",
              "University of Pennsylvania          4.696610\n",
              "Name: course_rating, dtype: float64"
            ]
          },
          "metadata": {
            "tags": []
          },
          "execution_count": 243
        }
      ]
    },
    {
      "cell_type": "markdown",
      "metadata": {
        "id": "OWJAgDR9ZQTw",
        "colab_type": "text"
      },
      "source": [
        "## Which organization has the highest course rating?"
      ]
    },
    {
      "cell_type": "code",
      "metadata": {
        "id": "jcW60HpuTJdT",
        "colab_type": "code",
        "colab": {
          "base_uri": "https://localhost:8080/",
          "height": 390
        },
        "outputId": "1f78f4db-8655-4d17-cd49-a9f8c361ca78"
      },
      "source": [
        "E4=data.groupby('course_organization').mean().sort_values(by='course_rating', ascending=False,)\n",
        "E4.head(10)"
      ],
      "execution_count": 258,
      "outputs": [
        {
          "output_type": "execute_result",
          "data": {
            "text/html": [
              "<div>\n",
              "<style scoped>\n",
              "    .dataframe tbody tr th:only-of-type {\n",
              "        vertical-align: middle;\n",
              "    }\n",
              "\n",
              "    .dataframe tbody tr th {\n",
              "        vertical-align: top;\n",
              "    }\n",
              "\n",
              "    .dataframe thead th {\n",
              "        text-align: right;\n",
              "    }\n",
              "</style>\n",
              "<table border=\"1\" class=\"dataframe\">\n",
              "  <thead>\n",
              "    <tr style=\"text-align: right;\">\n",
              "      <th></th>\n",
              "      <th>ID</th>\n",
              "      <th>course_rating</th>\n",
              "      <th>course_students_enrolled</th>\n",
              "      <th>count</th>\n",
              "    </tr>\n",
              "    <tr>\n",
              "      <th>course_organization</th>\n",
              "      <th></th>\n",
              "      <th></th>\n",
              "      <th></th>\n",
              "      <th></th>\n",
              "    </tr>\n",
              "  </thead>\n",
              "  <tbody>\n",
              "    <tr>\n",
              "      <th>Hebrew University of Jerusalem</th>\n",
              "      <td>395.0</td>\n",
              "      <td>4.900000</td>\n",
              "      <td>95000.0</td>\n",
              "      <td>1.000000</td>\n",
              "    </tr>\n",
              "    <tr>\n",
              "      <th>Nanyang Technological University, Singapore</th>\n",
              "      <td>377.0</td>\n",
              "      <td>4.900000</td>\n",
              "      <td>47000.0</td>\n",
              "      <td>1.000000</td>\n",
              "    </tr>\n",
              "    <tr>\n",
              "      <th>Universidade Estadual de Campinas</th>\n",
              "      <td>386.0</td>\n",
              "      <td>4.900000</td>\n",
              "      <td>17000.0</td>\n",
              "      <td>1.000000</td>\n",
              "    </tr>\n",
              "    <tr>\n",
              "      <th>Crece con Google</th>\n",
              "      <td>363.0</td>\n",
              "      <td>4.900000</td>\n",
              "      <td>8800.0</td>\n",
              "      <td>0.000000</td>\n",
              "    </tr>\n",
              "    <tr>\n",
              "      <th>London Business School</th>\n",
              "      <td>72.0</td>\n",
              "      <td>4.900000</td>\n",
              "      <td>57000.0</td>\n",
              "      <td>1.000000</td>\n",
              "    </tr>\n",
              "    <tr>\n",
              "      <th>Google - Spectrum Sharing</th>\n",
              "      <td>106.0</td>\n",
              "      <td>4.900000</td>\n",
              "      <td>210000.0</td>\n",
              "      <td>1.000000</td>\n",
              "    </tr>\n",
              "    <tr>\n",
              "      <th>ScrumTrek</th>\n",
              "      <td>846.0</td>\n",
              "      <td>4.900000</td>\n",
              "      <td>12000.0</td>\n",
              "      <td>1.000000</td>\n",
              "    </tr>\n",
              "    <tr>\n",
              "      <th>Universidade de São Paulo</th>\n",
              "      <td>616.0</td>\n",
              "      <td>4.866667</td>\n",
              "      <td>68500.0</td>\n",
              "      <td>0.666667</td>\n",
              "    </tr>\n",
              "    <tr>\n",
              "      <th>The University of Chicago</th>\n",
              "      <td>541.5</td>\n",
              "      <td>4.850000</td>\n",
              "      <td>84000.0</td>\n",
              "      <td>1.000000</td>\n",
              "    </tr>\n",
              "    <tr>\n",
              "      <th>Universidad de los Andes</th>\n",
              "      <td>675.8</td>\n",
              "      <td>4.820000</td>\n",
              "      <td>61080.0</td>\n",
              "      <td>0.800000</td>\n",
              "    </tr>\n",
              "  </tbody>\n",
              "</table>\n",
              "</div>"
            ],
            "text/plain": [
              "                                                ID  ...     count\n",
              "course_organization                                 ...          \n",
              "Hebrew University of Jerusalem               395.0  ...  1.000000\n",
              "Nanyang Technological University, Singapore  377.0  ...  1.000000\n",
              "Universidade Estadual de Campinas            386.0  ...  1.000000\n",
              "Crece con Google                             363.0  ...  0.000000\n",
              "London Business School                        72.0  ...  1.000000\n",
              "Google - Spectrum Sharing                    106.0  ...  1.000000\n",
              "ScrumTrek                                    846.0  ...  1.000000\n",
              "Universidade de São Paulo                    616.0  ...  0.666667\n",
              "The University of Chicago                    541.5  ...  1.000000\n",
              "Universidad de los Andes                     675.8  ...  0.800000\n",
              "\n",
              "[10 rows x 4 columns]"
            ]
          },
          "metadata": {
            "tags": []
          },
          "execution_count": 258
        }
      ]
    },
    {
      "cell_type": "code",
      "metadata": {
        "id": "pupbIHCUVW6T",
        "colab_type": "code",
        "colab": {
          "base_uri": "https://localhost:8080/",
          "height": 297
        },
        "outputId": "81468592-cb24-4fb2-c9f7-bbf08f1f461b"
      },
      "source": [
        "E4[E4.course_rating==4.9]"
      ],
      "execution_count": 260,
      "outputs": [
        {
          "output_type": "execute_result",
          "data": {
            "text/html": [
              "<div>\n",
              "<style scoped>\n",
              "    .dataframe tbody tr th:only-of-type {\n",
              "        vertical-align: middle;\n",
              "    }\n",
              "\n",
              "    .dataframe tbody tr th {\n",
              "        vertical-align: top;\n",
              "    }\n",
              "\n",
              "    .dataframe thead th {\n",
              "        text-align: right;\n",
              "    }\n",
              "</style>\n",
              "<table border=\"1\" class=\"dataframe\">\n",
              "  <thead>\n",
              "    <tr style=\"text-align: right;\">\n",
              "      <th></th>\n",
              "      <th>ID</th>\n",
              "      <th>course_rating</th>\n",
              "      <th>course_students_enrolled</th>\n",
              "      <th>count</th>\n",
              "    </tr>\n",
              "    <tr>\n",
              "      <th>course_organization</th>\n",
              "      <th></th>\n",
              "      <th></th>\n",
              "      <th></th>\n",
              "      <th></th>\n",
              "    </tr>\n",
              "  </thead>\n",
              "  <tbody>\n",
              "    <tr>\n",
              "      <th>Hebrew University of Jerusalem</th>\n",
              "      <td>395.0</td>\n",
              "      <td>4.9</td>\n",
              "      <td>95000.0</td>\n",
              "      <td>1.0</td>\n",
              "    </tr>\n",
              "    <tr>\n",
              "      <th>Nanyang Technological University, Singapore</th>\n",
              "      <td>377.0</td>\n",
              "      <td>4.9</td>\n",
              "      <td>47000.0</td>\n",
              "      <td>1.0</td>\n",
              "    </tr>\n",
              "    <tr>\n",
              "      <th>Universidade Estadual de Campinas</th>\n",
              "      <td>386.0</td>\n",
              "      <td>4.9</td>\n",
              "      <td>17000.0</td>\n",
              "      <td>1.0</td>\n",
              "    </tr>\n",
              "    <tr>\n",
              "      <th>Crece con Google</th>\n",
              "      <td>363.0</td>\n",
              "      <td>4.9</td>\n",
              "      <td>8800.0</td>\n",
              "      <td>0.0</td>\n",
              "    </tr>\n",
              "    <tr>\n",
              "      <th>London Business School</th>\n",
              "      <td>72.0</td>\n",
              "      <td>4.9</td>\n",
              "      <td>57000.0</td>\n",
              "      <td>1.0</td>\n",
              "    </tr>\n",
              "    <tr>\n",
              "      <th>Google - Spectrum Sharing</th>\n",
              "      <td>106.0</td>\n",
              "      <td>4.9</td>\n",
              "      <td>210000.0</td>\n",
              "      <td>1.0</td>\n",
              "    </tr>\n",
              "    <tr>\n",
              "      <th>ScrumTrek</th>\n",
              "      <td>846.0</td>\n",
              "      <td>4.9</td>\n",
              "      <td>12000.0</td>\n",
              "      <td>1.0</td>\n",
              "    </tr>\n",
              "  </tbody>\n",
              "</table>\n",
              "</div>"
            ],
            "text/plain": [
              "                                                ID  ...  count\n",
              "course_organization                                 ...       \n",
              "Hebrew University of Jerusalem               395.0  ...    1.0\n",
              "Nanyang Technological University, Singapore  377.0  ...    1.0\n",
              "Universidade Estadual de Campinas            386.0  ...    1.0\n",
              "Crece con Google                             363.0  ...    0.0\n",
              "London Business School                        72.0  ...    1.0\n",
              "Google - Spectrum Sharing                    106.0  ...    1.0\n",
              "ScrumTrek                                    846.0  ...    1.0\n",
              "\n",
              "[7 rows x 4 columns]"
            ]
          },
          "metadata": {
            "tags": []
          },
          "execution_count": 260
        }
      ]
    },
    {
      "cell_type": "markdown",
      "metadata": {
        "id": "gRsNhUeSY7_i",
        "colab_type": "text"
      },
      "source": [
        "## Top 5 courses on Coursera by course rating?"
      ]
    },
    {
      "cell_type": "code",
      "metadata": {
        "id": "npUuFEJ_XEmF",
        "colab_type": "code",
        "colab": {
          "base_uri": "https://localhost:8080/",
          "height": 238
        },
        "outputId": "ca870d5c-4c05-4fef-a22b-35cad1449698"
      },
      "source": [
        "data.groupby('course_title')['course_rating'].mean()"
      ],
      "execution_count": 261,
      "outputs": [
        {
          "output_type": "execute_result",
          "data": {
            "text/plain": [
              "course_title\n",
              "(ISC)² Systems Security Certified Practitioner (SSCP)                             4.7\n",
              "A Crash Course in Causality:  Inferring Causal Effects from Observational Data    4.7\n",
              "A Crash Course in Data Science                                                    4.5\n",
              "A Law Student's Toolkit                                                           4.7\n",
              "A Life of Happiness and Fulfillment                                               4.8\n",
              "                                                                                 ... \n",
              "Программирование на Python                                                        4.5\n",
              "Психолингвистика (Psycholinguistics)                                              4.8\n",
              "Разработка интерфейсов: вёрстка и JavaScript                                      4.5\n",
              "Русский как иностранный                                                           4.6\n",
              "Финансовые инструменты для частного инвестора                                     4.7\n",
              "Name: course_rating, Length: 888, dtype: float64"
            ]
          },
          "metadata": {
            "tags": []
          },
          "execution_count": 261
        }
      ]
    },
    {
      "cell_type": "code",
      "metadata": {
        "id": "Dvc1nCyAXErW",
        "colab_type": "code",
        "colab": {
          "base_uri": "https://localhost:8080/",
          "height": 235
        },
        "outputId": "9443e794-e741-4dbe-f32e-1f8b4b6f070d"
      },
      "source": [
        "data.groupby('course_title').mean().sort_values(by='course_rating', ascending=False,).head()"
      ],
      "execution_count": 264,
      "outputs": [
        {
          "output_type": "execute_result",
          "data": {
            "text/html": [
              "<div>\n",
              "<style scoped>\n",
              "    .dataframe tbody tr th:only-of-type {\n",
              "        vertical-align: middle;\n",
              "    }\n",
              "\n",
              "    .dataframe tbody tr th {\n",
              "        vertical-align: top;\n",
              "    }\n",
              "\n",
              "    .dataframe thead th {\n",
              "        text-align: right;\n",
              "    }\n",
              "</style>\n",
              "<table border=\"1\" class=\"dataframe\">\n",
              "  <thead>\n",
              "    <tr style=\"text-align: right;\">\n",
              "      <th></th>\n",
              "      <th>ID</th>\n",
              "      <th>course_rating</th>\n",
              "      <th>course_students_enrolled</th>\n",
              "      <th>count</th>\n",
              "    </tr>\n",
              "    <tr>\n",
              "      <th>course_title</th>\n",
              "      <th></th>\n",
              "      <th></th>\n",
              "      <th></th>\n",
              "      <th></th>\n",
              "    </tr>\n",
              "  </thead>\n",
              "  <tbody>\n",
              "    <tr>\n",
              "      <th>Infectious Disease Modelling</th>\n",
              "      <td>401.0</td>\n",
              "      <td>5.0</td>\n",
              "      <td>1600.0</td>\n",
              "      <td>0.0</td>\n",
              "    </tr>\n",
              "    <tr>\n",
              "      <th>El Abogado del Futuro: Legaltech y la Transformación Digital del Derecho</th>\n",
              "      <td>789.0</td>\n",
              "      <td>5.0</td>\n",
              "      <td>1500.0</td>\n",
              "      <td>1.0</td>\n",
              "    </tr>\n",
              "    <tr>\n",
              "      <th>Stories of Infection</th>\n",
              "      <td>657.0</td>\n",
              "      <td>4.9</td>\n",
              "      <td>28000.0</td>\n",
              "      <td>1.0</td>\n",
              "    </tr>\n",
              "    <tr>\n",
              "      <th>Boosting Creativity for Innovation</th>\n",
              "      <td>645.0</td>\n",
              "      <td>4.9</td>\n",
              "      <td>9500.0</td>\n",
              "      <td>1.0</td>\n",
              "    </tr>\n",
              "    <tr>\n",
              "      <th>Brand Management: Aligning Business, Brand and Behaviour</th>\n",
              "      <td>72.0</td>\n",
              "      <td>4.9</td>\n",
              "      <td>57000.0</td>\n",
              "      <td>1.0</td>\n",
              "    </tr>\n",
              "  </tbody>\n",
              "</table>\n",
              "</div>"
            ],
            "text/plain": [
              "                                                       ID  ...  count\n",
              "course_title                                               ...       \n",
              "Infectious Disease Modelling                        401.0  ...    0.0\n",
              "El Abogado del Futuro: Legaltech y la Transform...  789.0  ...    1.0\n",
              "Stories of Infection                                657.0  ...    1.0\n",
              "Boosting Creativity for Innovation                  645.0  ...    1.0\n",
              "Brand Management: Aligning Business, Brand and ...   72.0  ...    1.0\n",
              "\n",
              "[5 rows x 4 columns]"
            ]
          },
          "metadata": {
            "tags": []
          },
          "execution_count": 264
        }
      ]
    },
    {
      "cell_type": "code",
      "metadata": {
        "id": "_GLrLWxsYRIJ",
        "colab_type": "code",
        "colab": {}
      },
      "source": [
        "## Does course difficulty affect number of students enrolled?"
      ],
      "execution_count": 0,
      "outputs": []
    },
    {
      "cell_type": "markdown",
      "metadata": {
        "id": "69BonKjPYmPM",
        "colab_type": "text"
      },
      "source": [
        "## Does course difficulty affect number of students enrolled?\n"
      ]
    },
    {
      "cell_type": "code",
      "metadata": {
        "id": "g-90MMrjaMA3",
        "colab_type": "code",
        "colab": {
          "base_uri": "https://localhost:8080/",
          "height": 204
        },
        "outputId": "3cfd9f37-6d74-45a2-9fc5-6e6869bdee96"
      },
      "source": [
        "E4=data.groupby('course_difficulty').mean().sort_values(by='course_rating', ascending=False,).head()\n",
        "E4"
      ],
      "execution_count": 280,
      "outputs": [
        {
          "output_type": "execute_result",
          "data": {
            "text/html": [
              "<div>\n",
              "<style scoped>\n",
              "    .dataframe tbody tr th:only-of-type {\n",
              "        vertical-align: middle;\n",
              "    }\n",
              "\n",
              "    .dataframe tbody tr th {\n",
              "        vertical-align: top;\n",
              "    }\n",
              "\n",
              "    .dataframe thead th {\n",
              "        text-align: right;\n",
              "    }\n",
              "</style>\n",
              "<table border=\"1\" class=\"dataframe\">\n",
              "  <thead>\n",
              "    <tr style=\"text-align: right;\">\n",
              "      <th></th>\n",
              "      <th>ID</th>\n",
              "      <th>course_rating</th>\n",
              "      <th>course_students_enrolled</th>\n",
              "      <th>count</th>\n",
              "    </tr>\n",
              "    <tr>\n",
              "      <th>course_difficulty</th>\n",
              "      <th></th>\n",
              "      <th></th>\n",
              "      <th></th>\n",
              "      <th></th>\n",
              "    </tr>\n",
              "  </thead>\n",
              "  <tbody>\n",
              "    <tr>\n",
              "      <th>Mixed</th>\n",
              "      <td>495.401070</td>\n",
              "      <td>4.708556</td>\n",
              "      <td>133633.155080</td>\n",
              "      <td>1.000000</td>\n",
              "    </tr>\n",
              "    <tr>\n",
              "      <th>Beginner</th>\n",
              "      <td>418.798768</td>\n",
              "      <td>4.680903</td>\n",
              "      <td>81974.948665</td>\n",
              "      <td>0.579055</td>\n",
              "    </tr>\n",
              "    <tr>\n",
              "      <th>Intermediate</th>\n",
              "      <td>462.126263</td>\n",
              "      <td>4.646465</td>\n",
              "      <td>73264.141414</td>\n",
              "      <td>0.525253</td>\n",
              "    </tr>\n",
              "    <tr>\n",
              "      <th>Advanced</th>\n",
              "      <td>442.052632</td>\n",
              "      <td>4.600000</td>\n",
              "      <td>66547.368421</td>\n",
              "      <td>0.473684</td>\n",
              "    </tr>\n",
              "  </tbody>\n",
              "</table>\n",
              "</div>"
            ],
            "text/plain": [
              "                           ID  ...     count\n",
              "course_difficulty              ...          \n",
              "Mixed              495.401070  ...  1.000000\n",
              "Beginner           418.798768  ...  0.579055\n",
              "Intermediate       462.126263  ...  0.525253\n",
              "Advanced           442.052632  ...  0.473684\n",
              "\n",
              "[4 rows x 4 columns]"
            ]
          },
          "metadata": {
            "tags": []
          },
          "execution_count": 280
        }
      ]
    },
    {
      "cell_type": "code",
      "metadata": {
        "id": "rEWheTETaL-_",
        "colab_type": "code",
        "colab": {
          "base_uri": "https://localhost:8080/",
          "height": 119
        },
        "outputId": "d71f5572-63d9-453a-b3b2-ad8ad69531ef"
      },
      "source": [
        "E4.loc[:,'course_students_enrolled']"
      ],
      "execution_count": 284,
      "outputs": [
        {
          "output_type": "execute_result",
          "data": {
            "text/plain": [
              "course_difficulty\n",
              "Mixed           133633.155080\n",
              "Beginner         81974.948665\n",
              "Intermediate     73264.141414\n",
              "Advanced         66547.368421\n",
              "Name: course_students_enrolled, dtype: float64"
            ]
          },
          "metadata": {
            "tags": []
          },
          "execution_count": 284
        }
      ]
    },
    {
      "cell_type": "code",
      "metadata": {
        "id": "HiSJJEfLbThw",
        "colab_type": "code",
        "colab": {
          "base_uri": "https://localhost:8080/",
          "height": 295
        },
        "outputId": "51e16464-c6b3-4494-8c41-86ad146abdfb"
      },
      "source": [
        "plt.bar(E4.index,E4.loc[:,'course_students_enrolled'])\n",
        "plt.xlabel('Difficulty')\n",
        "plt.ylabel('Avg. students enrolled')\n",
        "plt.title('Difficulty Vs Students Enrolled')\n",
        "#plt.grid()\n",
        "plt.show()"
      ],
      "execution_count": 292,
      "outputs": [
        {
          "output_type": "display_data",
          "data": {
            "image/png": "[encoded data removed]",
            "text/plain": [
              "<Figure size 432x288 with 1 Axes>"
            ]
          },
          "metadata": {
            "tags": [],
            "needs_background": "light"
          }
        }
      ]
    },
    {
      "cell_type": "markdown",
      "metadata": {
        "id": "hJ7dOSRgdDGt",
        "colab_type": "text"
      },
      "source": [
        "## Does course difficulty affect rating?"
      ]
    },
    {
      "cell_type": "code",
      "metadata": {
        "id": "eBwUXwvsbTfH",
        "colab_type": "code",
        "colab": {
          "base_uri": "https://localhost:8080/",
          "height": 204
        },
        "outputId": "c7adbe03-a08c-4022-d22d-ebcbae0e68da"
      },
      "source": [
        "E4=data.groupby('course_difficulty').mean().sort_values(by='course_rating', ascending=False,).head()\n",
        "E4"
      ],
      "execution_count": 294,
      "outputs": [
        {
          "output_type": "execute_result",
          "data": {
            "text/html": [
              "<div>\n",
              "<style scoped>\n",
              "    .dataframe tbody tr th:only-of-type {\n",
              "        vertical-align: middle;\n",
              "    }\n",
              "\n",
              "    .dataframe tbody tr th {\n",
              "        vertical-align: top;\n",
              "    }\n",
              "\n",
              "    .dataframe thead th {\n",
              "        text-align: right;\n",
              "    }\n",
              "</style>\n",
              "<table border=\"1\" class=\"dataframe\">\n",
              "  <thead>\n",
              "    <tr style=\"text-align: right;\">\n",
              "      <th></th>\n",
              "      <th>ID</th>\n",
              "      <th>course_rating</th>\n",
              "      <th>course_students_enrolled</th>\n",
              "      <th>count</th>\n",
              "    </tr>\n",
              "    <tr>\n",
              "      <th>course_difficulty</th>\n",
              "      <th></th>\n",
              "      <th></th>\n",
              "      <th></th>\n",
              "      <th></th>\n",
              "    </tr>\n",
              "  </thead>\n",
              "  <tbody>\n",
              "    <tr>\n",
              "      <th>Mixed</th>\n",
              "      <td>495.401070</td>\n",
              "      <td>4.708556</td>\n",
              "      <td>133633.155080</td>\n",
              "      <td>1.000000</td>\n",
              "    </tr>\n",
              "    <tr>\n",
              "      <th>Beginner</th>\n",
              "      <td>418.798768</td>\n",
              "      <td>4.680903</td>\n",
              "      <td>81974.948665</td>\n",
              "      <td>0.579055</td>\n",
              "    </tr>\n",
              "    <tr>\n",
              "      <th>Intermediate</th>\n",
              "      <td>462.126263</td>\n",
              "      <td>4.646465</td>\n",
              "      <td>73264.141414</td>\n",
              "      <td>0.525253</td>\n",
              "    </tr>\n",
              "    <tr>\n",
              "      <th>Advanced</th>\n",
              "      <td>442.052632</td>\n",
              "      <td>4.600000</td>\n",
              "      <td>66547.368421</td>\n",
              "      <td>0.473684</td>\n",
              "    </tr>\n",
              "  </tbody>\n",
              "</table>\n",
              "</div>"
            ],
            "text/plain": [
              "                           ID  ...     count\n",
              "course_difficulty              ...          \n",
              "Mixed              495.401070  ...  1.000000\n",
              "Beginner           418.798768  ...  0.579055\n",
              "Intermediate       462.126263  ...  0.525253\n",
              "Advanced           442.052632  ...  0.473684\n",
              "\n",
              "[4 rows x 4 columns]"
            ]
          },
          "metadata": {
            "tags": []
          },
          "execution_count": 294
        }
      ]
    },
    {
      "cell_type": "code",
      "metadata": {
        "id": "Cz99Sb7bdJlj",
        "colab_type": "code",
        "colab": {
          "base_uri": "https://localhost:8080/",
          "height": 119
        },
        "outputId": "acf60aa3-414e-46d3-fe8d-df62659f6e02"
      },
      "source": [
        "E4.loc[:,'course_rating']"
      ],
      "execution_count": 295,
      "outputs": [
        {
          "output_type": "execute_result",
          "data": {
            "text/plain": [
              "course_difficulty\n",
              "Mixed           4.708556\n",
              "Beginner        4.680903\n",
              "Intermediate    4.646465\n",
              "Advanced        4.600000\n",
              "Name: course_rating, dtype: float64"
            ]
          },
          "metadata": {
            "tags": []
          },
          "execution_count": 295
        }
      ]
    },
    {
      "cell_type": "code",
      "metadata": {
        "id": "2w52v1i7dJsG",
        "colab_type": "code",
        "colab": {
          "base_uri": "https://localhost:8080/",
          "height": 295
        },
        "outputId": "739e50db-4eb3-499b-ec88-34ffb200a961"
      },
      "source": [
        "plt.bar(E4.index,E4.loc[:,'course_rating'])\n",
        "plt.xlabel('Difficulty')\n",
        "plt.ylabel('Avg. Course Rating')\n",
        "plt.title('Difficulty Vs Course rating')\n",
        "plt.grid()\n",
        "plt.show()\n",
        "## No, course difficulty doesn't effect course rating since as the\n",
        "## difficulty increase less number of students take the course"
      ],
      "execution_count": 299,
      "outputs": [
        {
          "output_type": "display_data",
          "data": {
            "image/png": "[encoded data removed]",
            "text/plain": [
              "<Figure size 432x288 with 1 Axes>"
            ]
          },
          "metadata": {
            "tags": [],
            "needs_background": "light"
          }
        }
      ]
    },
    {
      "cell_type": "markdown",
      "metadata": {
        "id": "6FTVsUkHeUgG",
        "colab_type": "text"
      },
      "source": [
        "## Does certificate type impact number of students enrolled?"
      ]
    },
    {
      "cell_type": "code",
      "metadata": {
        "id": "Alnv4zh0eRhv",
        "colab_type": "code",
        "colab": {
          "base_uri": "https://localhost:8080/",
          "height": 173
        },
        "outputId": "490fc220-72d2-41dd-b7f3-de3281c243b4"
      },
      "source": [
        "E5=data.groupby('course_Certificate_type').mean().sort_values(by='course_students_enrolled', ascending=False,).head()\n",
        "E5"
      ],
      "execution_count": 302,
      "outputs": [
        {
          "output_type": "execute_result",
          "data": {
            "text/html": [
              "<div>\n",
              "<style scoped>\n",
              "    .dataframe tbody tr th:only-of-type {\n",
              "        vertical-align: middle;\n",
              "    }\n",
              "\n",
              "    .dataframe tbody tr th {\n",
              "        vertical-align: top;\n",
              "    }\n",
              "\n",
              "    .dataframe thead th {\n",
              "        text-align: right;\n",
              "    }\n",
              "</style>\n",
              "<table border=\"1\" class=\"dataframe\">\n",
              "  <thead>\n",
              "    <tr style=\"text-align: right;\">\n",
              "      <th></th>\n",
              "      <th>ID</th>\n",
              "      <th>course_rating</th>\n",
              "      <th>course_students_enrolled</th>\n",
              "      <th>count</th>\n",
              "    </tr>\n",
              "    <tr>\n",
              "      <th>course_Certificate_type</th>\n",
              "      <th></th>\n",
              "      <th></th>\n",
              "      <th></th>\n",
              "      <th></th>\n",
              "    </tr>\n",
              "  </thead>\n",
              "  <tbody>\n",
              "    <tr>\n",
              "      <th>PROFESSIONAL CERTIFICATE</th>\n",
              "      <td>102.583333</td>\n",
              "      <td>4.700000</td>\n",
              "      <td>190700.000000</td>\n",
              "      <td>0.0</td>\n",
              "    </tr>\n",
              "    <tr>\n",
              "      <th>SPECIALIZATION</th>\n",
              "      <td>314.555556</td>\n",
              "      <td>4.618182</td>\n",
              "      <td>91791.919192</td>\n",
              "      <td>0.0</td>\n",
              "    </tr>\n",
              "    <tr>\n",
              "      <th>COURSE</th>\n",
              "      <td>518.627148</td>\n",
              "      <td>4.707045</td>\n",
              "      <td>87854.467354</td>\n",
              "      <td>1.0</td>\n",
              "    </tr>\n",
              "  </tbody>\n",
              "</table>\n",
              "</div>"
            ],
            "text/plain": [
              "                                  ID  ...  count\n",
              "course_Certificate_type               ...       \n",
              "PROFESSIONAL CERTIFICATE  102.583333  ...    0.0\n",
              "SPECIALIZATION            314.555556  ...    0.0\n",
              "COURSE                    518.627148  ...    1.0\n",
              "\n",
              "[3 rows x 4 columns]"
            ]
          },
          "metadata": {
            "tags": []
          },
          "execution_count": 302
        }
      ]
    },
    {
      "cell_type": "code",
      "metadata": {
        "id": "sUkYRNrIeRZc",
        "colab_type": "code",
        "colab": {
          "base_uri": "https://localhost:8080/",
          "height": 102
        },
        "outputId": "2b3d80ea-b882-410d-ce26-1994b53e2d42"
      },
      "source": [
        "E5.loc[:,'course_students_enrolled']"
      ],
      "execution_count": 304,
      "outputs": [
        {
          "output_type": "execute_result",
          "data": {
            "text/plain": [
              "course_Certificate_type\n",
              "PROFESSIONAL CERTIFICATE    190700.000000\n",
              "SPECIALIZATION               91791.919192\n",
              "COURSE                       87854.467354\n",
              "Name: course_students_enrolled, dtype: float64"
            ]
          },
          "metadata": {
            "tags": []
          },
          "execution_count": 304
        }
      ]
    },
    {
      "cell_type": "code",
      "metadata": {
        "id": "UQFlf0yTeRX3",
        "colab_type": "code",
        "colab": {
          "base_uri": "https://localhost:8080/",
          "height": 399
        },
        "outputId": "c1fbbe38-87e3-4cc6-ad72-74a8a09c50bb"
      },
      "source": [
        "plt.bar(E5.index,E5.loc[:,'course_students_enrolled'])\n",
        "plt.xlabel('Course_Certificate_type')\n",
        "plt.xticks(E5.index, rotation='vertical', size=8)\n",
        "plt.ylabel('Students Enrolled')\n",
        "plt.title('Course Certificate Type Vs Students Enrolled')\n",
        "plt.grid()\n",
        "plt.show()\n",
        "## Yes, course certificate type effects student enrollment in a course"
      ],
      "execution_count": 308,
      "outputs": [
        {
          "output_type": "display_data",
          "data": {
            "image/png": "[encoded data removed]",
            "text/plain": [
              "<Figure size 432x288 with 1 Axes>"
            ]
          },
          "metadata": {
            "tags": [],
            "needs_background": "light"
          }
        }
      ]
    },
    {
      "cell_type": "markdown",
      "metadata": {
        "id": "LqhFtVRmftWZ",
        "colab_type": "text"
      },
      "source": [
        "## Does certificate type impact course rating?"
      ]
    },
    {
      "cell_type": "code",
      "metadata": {
        "id": "OH9NMHU-frzC",
        "colab_type": "code",
        "colab": {
          "base_uri": "https://localhost:8080/",
          "height": 173
        },
        "outputId": "84131aa0-242e-44f6-89dc-d12ef2ee045e"
      },
      "source": [
        "E6=data.groupby('course_Certificate_type').mean().sort_values(by='course_rating', ascending=False,).head()\n",
        "E6"
      ],
      "execution_count": 311,
      "outputs": [
        {
          "output_type": "execute_result",
          "data": {
            "text/html": [
              "<div>\n",
              "<style scoped>\n",
              "    .dataframe tbody tr th:only-of-type {\n",
              "        vertical-align: middle;\n",
              "    }\n",
              "\n",
              "    .dataframe tbody tr th {\n",
              "        vertical-align: top;\n",
              "    }\n",
              "\n",
              "    .dataframe thead th {\n",
              "        text-align: right;\n",
              "    }\n",
              "</style>\n",
              "<table border=\"1\" class=\"dataframe\">\n",
              "  <thead>\n",
              "    <tr style=\"text-align: right;\">\n",
              "      <th></th>\n",
              "      <th>ID</th>\n",
              "      <th>course_rating</th>\n",
              "      <th>course_students_enrolled</th>\n",
              "      <th>count</th>\n",
              "    </tr>\n",
              "    <tr>\n",
              "      <th>course_Certificate_type</th>\n",
              "      <th></th>\n",
              "      <th></th>\n",
              "      <th></th>\n",
              "      <th></th>\n",
              "    </tr>\n",
              "  </thead>\n",
              "  <tbody>\n",
              "    <tr>\n",
              "      <th>COURSE</th>\n",
              "      <td>518.627148</td>\n",
              "      <td>4.707045</td>\n",
              "      <td>87854.467354</td>\n",
              "      <td>1.0</td>\n",
              "    </tr>\n",
              "    <tr>\n",
              "      <th>PROFESSIONAL CERTIFICATE</th>\n",
              "      <td>102.583333</td>\n",
              "      <td>4.700000</td>\n",
              "      <td>190700.000000</td>\n",
              "      <td>0.0</td>\n",
              "    </tr>\n",
              "    <tr>\n",
              "      <th>SPECIALIZATION</th>\n",
              "      <td>314.555556</td>\n",
              "      <td>4.618182</td>\n",
              "      <td>91791.919192</td>\n",
              "      <td>0.0</td>\n",
              "    </tr>\n",
              "  </tbody>\n",
              "</table>\n",
              "</div>"
            ],
            "text/plain": [
              "                                  ID  ...  count\n",
              "course_Certificate_type               ...       \n",
              "COURSE                    518.627148  ...    1.0\n",
              "PROFESSIONAL CERTIFICATE  102.583333  ...    0.0\n",
              "SPECIALIZATION            314.555556  ...    0.0\n",
              "\n",
              "[3 rows x 4 columns]"
            ]
          },
          "metadata": {
            "tags": []
          },
          "execution_count": 311
        }
      ]
    },
    {
      "cell_type": "code",
      "metadata": {
        "id": "icfs0GIsfrsj",
        "colab_type": "code",
        "colab": {
          "base_uri": "https://localhost:8080/",
          "height": 102
        },
        "outputId": "c37010e5-8468-4dc5-9676-780b2e75a85b"
      },
      "source": [
        "E6.loc[:,'course_rating']"
      ],
      "execution_count": 312,
      "outputs": [
        {
          "output_type": "execute_result",
          "data": {
            "text/plain": [
              "course_Certificate_type\n",
              "COURSE                      4.707045\n",
              "PROFESSIONAL CERTIFICATE    4.700000\n",
              "SPECIALIZATION              4.618182\n",
              "Name: course_rating, dtype: float64"
            ]
          },
          "metadata": {
            "tags": []
          },
          "execution_count": 312
        }
      ]
    },
    {
      "cell_type": "code",
      "metadata": {
        "id": "2KRKz7dseRRS",
        "colab_type": "code",
        "colab": {
          "base_uri": "https://localhost:8080/",
          "height": 399
        },
        "outputId": "55035264-646a-4986-8c43-e0336ef74fde"
      },
      "source": [
        "plt.bar(E6.index,E6.loc[:,'course_rating'])\n",
        "plt.xlabel('Course_Certificate_type')\n",
        "plt.xticks(E6.index, rotation='vertical', size=8)\n",
        "plt.ylabel('Course Rating')\n",
        "plt.title('Course Certificate Type Vs Course Rating')\n",
        "plt.grid()\n",
        "plt.show()\n",
        "\n",
        "## No,certificate type DOES NOT impact course rating"
      ],
      "execution_count": 314,
      "outputs": [
        {
          "output_type": "display_data",
          "data": {
            "image/png": "[encoded data removed]",
            "text/plain": [
              "<Figure size 432x288 with 1 Axes>"
            ]
          },
          "metadata": {
            "tags": [],
            "needs_background": "light"
          }
        }
      ]
    },
    {
      "cell_type": "markdown",
      "metadata": {
        "id": "8y80HC12gxYP",
        "colab_type": "text"
      },
      "source": [
        "## Number of students enrolled vs. course rating?"
      ]
    },
    {
      "cell_type": "code",
      "metadata": {
        "id": "AoM5jV5tgOnn",
        "colab_type": "code",
        "colab": {
          "base_uri": "https://localhost:8080/",
          "height": 51
        },
        "outputId": "66ab22f0-2240-4ad4-f0b6-ec2f8e04fe9e"
      },
      "source": [
        "E8=data.course_rating\n",
        "print(E8.shape)\n",
        "E9=data.course_students_enrolled\n",
        "print(E9.shape)\n"
      ],
      "execution_count": 328,
      "outputs": [
        {
          "output_type": "stream",
          "text": [
            "(891,)\n",
            "(891,)\n"
          ],
          "name": "stdout"
        }
      ]
    },
    {
      "cell_type": "code",
      "metadata": {
        "id": "ckInFni4qd8E",
        "colab_type": "code",
        "colab": {
          "base_uri": "https://localhost:8080/",
          "height": 295
        },
        "outputId": "adeb0677-a92f-4877-a64d-1d9d402ee273"
      },
      "source": [
        "plt.scatter(E9,E8)\n",
        "plt.title('Number of students enrolled Vs. Course Rating')\n",
        "plt.xlabel('Number of students enrolled')\n",
        "plt.ylabel('Course Rating')\n",
        "plt.grid()\n",
        "plt.show()\n"
      ],
      "execution_count": 334,
      "outputs": [
        {
          "output_type": "display_data",
          "data": {
            "image/png": "[encoded data removed]",
            "text/plain": [
              "<Figure size 432x288 with 1 Axes>"
            ]
          },
          "metadata": {
            "tags": [],
            "needs_background": "light"
          }
        }
      ]
    }
  ]
}